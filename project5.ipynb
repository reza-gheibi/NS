{
 "cells": [
  {
   "cell_type": "markdown",
   "metadata": {},
   "source": [
    "# Project 5\n",
    "## CS 5483\n",
    "## Due 5 Dec at 9 am"
   ]
  },
  {
   "cell_type": "markdown",
   "metadata": {},
   "source": [
    "All the import statements"
   ]
  },
  {
   "cell_type": "code",
   "execution_count": 54,
   "metadata": {},
   "outputs": [],
   "source": [
    "import networkx as nx\n",
    "from networkx.algorithms import community\n",
    "import numpy as np\n",
    "from random import sample\n",
    "import itertools\n",
    "import matplotlib.pyplot as plt\n",
    "\n"
   ]
  },
  {
   "cell_type": "markdown",
   "metadata": {},
   "source": [
    "### Question 1: Community Detection"
   ]
  },
  {
   "cell_type": "markdown",
   "metadata": {},
   "source": [
    "1.a) Create random graphs using barabasi albert model with 1000 nodes and value of m ranging from 1 to 10"
   ]
  },
  {
   "cell_type": "code",
   "execution_count": 209,
   "metadata": {},
   "outputs": [],
   "source": [
    "#nodes told to be as 200\n",
    "for i in range (1, 11):\n",
    "    #print (i)\n",
    "    locals()['G'+str(i)] = nx.barabasi_albert_graph(200, i)"
   ]
  },
  {
   "cell_type": "markdown",
   "metadata": {},
   "source": [
    "1.b) For each of the graphs created using barabasi model, find the number of communities using Grivan Newman algorithm\n",
    "\n",
    "Reference: https://networkx.org/documentation/stable/reference/algorithms/generated/networkx.algorithms.community.centrality.girvan_newman.html#networkx.algorithms.community.centrality.girvan_newman"
   ]
  },
  {
   "cell_type": "code",
   "execution_count": 215,
   "metadata": {},
   "outputs": [],
   "source": [
    "for i in range (1, 11):\n",
    "    comp = community.girvan_newman(locals()['G'+str(i)])\n",
    "    #limited = itertools.takewhile(lambda c: len(c) <= 15 , comp) <<< in case we want only the first 15 communities\n",
    "    for communities in comp:\n",
    "        locals()['number_of_community_G'+str(i)]=len(tuple(sorted(c) for c in communities))\n",
    "#if we do not limit number of communities, it goes all the way till single nodes and therefore\n",
    "#since every single node can be in the community list, each graph has upto 200 community"
   ]
  },
  {
   "cell_type": "code",
   "execution_count": 230,
   "metadata": {},
   "outputs": [
    {
     "name": "stdout",
     "output_type": "stream",
     "text": [
      "200\n",
      "200\n",
      "200\n",
      "200\n",
      "200\n",
      "200\n",
      "200\n",
      "200\n",
      "200\n",
      "200\n"
     ]
    }
   ],
   "source": [
    "for i in range (1, 11):\n",
    "    print(locals()['number_of_community_G'+str(i)])"
   ]
  },
  {
   "cell_type": "code",
   "execution_count": 238,
   "metadata": {},
   "outputs": [
    {
     "name": "stdout",
     "output_type": "stream",
     "text": [
      "15\n",
      "15\n",
      "15\n",
      "15\n",
      "15\n",
      "15\n",
      "15\n",
      "15\n",
      "15\n",
      "15\n"
     ]
    }
   ],
   "source": [
    "for i in range (1, 11):\n",
    "    comp = community.girvan_newman(locals()['G'+str(i)])\n",
    "    limited = itertools.takewhile(lambda c: len(c) <= 15 , comp) #in case we want only the first 15 communities\n",
    "    for communities in limited:\n",
    "        locals()['number_of_community_limited_G'+str(i)]=len(tuple(sorted(c) for c in communities))\n",
    "\n",
    "for i in range (1, 11):\n",
    "    print(locals()['number_of_community_limited_G'+str(i)])"
   ]
  },
  {
   "cell_type": "markdown",
   "metadata": {},
   "source": [
    "1.c) For each graph calculate the highest modularity score for a maximum of 15 components using the communities created from 1.b)\n",
    "\n",
    "`\n",
    " k = 2\n",
    "comp = girvan_newman(G)\n",
    "for communities in itertools.islice(comp, k):\n",
    "    comms = tuple(sorted(c) for c in communities)\n",
    "    modularity = community.modularity(G, comm)\n",
    "`\n",
    "\n",
    "use this a base code to calculate the maximum modularity up to 15 components. Also, fetch the store the number of components to which the graph exhibits maximum modularity."
   ]
  },
  {
   "cell_type": "code",
   "execution_count": 259,
   "metadata": {},
   "outputs": [],
   "source": [
    "modularity_of_communities = []\n",
    "number_of_comp_max_modu = []\n",
    "for i in range (1, 11):\n",
    "    comp = community.girvan_newman(locals()['G'+str(i)])\n",
    "    limited = itertools.takewhile(lambda c: len(c) <= 15 , comp) #we want only the first 15 communities\n",
    "    modularity_max = 0 #consider zero as max(to find max)\n",
    "    for communities in limited:\n",
    "        comms = tuple(sorted(c) for c in communities)\n",
    "        modularity = community.modularity((locals()['G'+str(i)]), comms)\n",
    "        if modularity > modularity_max:\n",
    "            modularity_max = modularity\n",
    "            comm_len_max_modularity = len(comms)\n",
    "    modularity_of_communities.append(modularity_max)\n",
    "    number_of_comp_max_modu.append(comm_len_max_modularity)\n"
   ]
  },
  {
   "cell_type": "code",
   "execution_count": 261,
   "metadata": {},
   "outputs": [
    {
     "data": {
      "text/plain": [
       "[15, 11, 14, 15, 15, 15, 15, 15, 15, 9]"
      ]
     },
     "execution_count": 261,
     "metadata": {},
     "output_type": "execute_result"
    }
   ],
   "source": [
    "#number of components to which the graph exhibits maximum modularity\n",
    "number_of_comp_max_modu"
   ]
  },
  {
   "cell_type": "code",
   "execution_count": 263,
   "metadata": {},
   "outputs": [
    {
     "data": {
      "text/plain": [
       "[0.8479457589454762,\n",
       " 0.480936256504456,\n",
       " 0.3401773929873116,\n",
       " 0.08293094023324679,\n",
       " 0.023728599605519166,\n",
       " 0.014175257731957658,\n",
       " 0.006330535650593978,\n",
       " 0.0028938717312283176,\n",
       " 0.003139635345441175,\n",
       " 0.0010419667590028908]"
      ]
     },
     "execution_count": 263,
     "metadata": {},
     "output_type": "execute_result"
    }
   ],
   "source": [
    "#maximum modularity for each graph\n",
    "modularity_of_communities"
   ]
  },
  {
   "cell_type": "markdown",
   "metadata": {},
   "source": [
    "1.d) For each value of m, plot the number of communities on y-axis and the respective values of m on x-axis."
   ]
  },
  {
   "cell_type": "code",
   "execution_count": 289,
   "metadata": {},
   "outputs": [
    {
     "data": {
      "image/png": "[encoded data removed]",
      "text/plain": [
       "<Figure size 432x288 with 1 Axes>"
      ]
     },
     "metadata": {
      "needs_background": "light"
     },
     "output_type": "display_data"
    }
   ],
   "source": [
    "x=list(range(1, 11))\n",
    "y=number_of_comp_max_modu\n",
    "plt.plot(x, y, '--', marker ='o')\n",
    "#plt.ylim(0,20)\n",
    "plt.title(\"number of community based on value m\\n\")\n",
    "plt.xlabel('value of m')\n",
    "plt.ylabel('number of communities')\n",
    "plt.show()"
   ]
  },
  {
   "cell_type": "markdown",
   "metadata": {},
   "source": [
    "## Question 2: Network Percolation"
   ]
  },
  {
   "cell_type": "markdown",
   "metadata": {},
   "source": [
    "2.a) Download the following power grid network and store it in a graph H\n",
    "\n",
    "http://networkrepository.com/power-US-Grid.php\n",
    "\n",
    "Find the size of the largest connected component (Giant component) of the graph H"
   ]
  },
  {
   "cell_type": "code",
   "execution_count": 323,
   "metadata": {},
   "outputs": [
    {
     "name": "stdout",
     "output_type": "stream",
     "text": [
      "size of the Giant component of the graph H =  4941\n"
     ]
    }
   ],
   "source": [
    "el = open (\"power-US-Grid.mtx\", 'rb') # open file and rb is for read-binary\n",
    "H = nx.read_edgelist(el, nodetype=int) # edges on each line of the input\n",
    "el.close()\n",
    "#Gcc = sorted(nx.connected_components(H), key=len, reverse=True)\n",
    "#len(Gcc[0])\n",
    "#G0 = H.subgraph(Gcc[0])\n",
    "largest_cc = max(nx.connected_components(G), key=len)\n",
    "print(\"size of the Giant component of the graph H =  \" +str(len(largest_cc)))"
   ]
  },
  {
   "cell_type": "markdown",
   "metadata": {},
   "source": [
    "Phi is defined as a occupation probability\n",
    "\n",
    "2.b) Construct 11 subgraphs for the power grid network using the occupation probabilty as a parameter.\n",
    "\n",
    "Perform the operation for phi = 0, 0.1, 0.2, 0.3, ..., 0.9, 1.0"
   ]
  },
  {
   "cell_type": "code",
   "execution_count": 325,
   "metadata": {},
   "outputs": [],
   "source": [
    "#H = nx.Graph()\n",
    "L = len(H.nodes)\n",
    "count = 1\n",
    "for i in np.arange(0.1, 1.1, 0.1):\n",
    "    set_of_node = sample(H.nodes, int((i * L)))\n",
    "    locals()['H' + str(count)] = H.subgraph(set_of_node)\n",
    "    count += 1"
   ]
  },
  {
   "cell_type": "markdown",
   "metadata": {},
   "source": [
    "2.c) Find the connected components for all the subgraphs and also the size of the largest connected components for all the subgraphs.\n",
    "\n",
    "Find the ratio of the size of the largest connected component of each subgraphs with the size of the largest connected component in H "
   ]
  },
  {
   "cell_type": "code",
   "execution_count": 408,
   "metadata": {},
   "outputs": [],
   "source": [
    "size_largers_cc = []\n",
    "L=len(H.nodes)\n",
    "ratio = []\n",
    "num_con_comps = []\n",
    "\n",
    "for i in range(1, 11):\n",
    "    con_comps = sorted(nx.connected_components(locals()['H' + str(i)]), key=len, reverse=True)\n",
    "    num_con_comps.append(len(con_comps))\n",
    "    largest_cc = max(con_comps)\n",
    "    size_largers_cc.append(len(largest_cc))\n",
    "    ratio.append(len(largest_cc)/L)\n"
   ]
  },
  {
   "cell_type": "code",
   "execution_count": 422,
   "metadata": {},
   "outputs": [
    {
     "name": "stdout",
     "output_type": "stream",
     "text": [
      "#connected_components H1: 425   size_of_largest: 4      Ratio: 0.0008095527221210282\n",
      "#connected_components H2: 718   size_of_largest: 10      Ratio: 0.0020238818053025702\n",
      "#connected_components H3: 900   size_of_largest: 14      Ratio: 0.0028334345274235984\n",
      "#connected_components H4: 996   size_of_largest: 32      Ratio: 0.0064764217769682254\n",
      "#connected_components H5: 946   size_of_largest: 76      Ratio: 0.015381501720299534\n",
      "#connected_components H6: 776   size_of_largest: 286      Ratio: 0.05788301963165351\n",
      "#connected_components H7: 621   size_of_largest: 853      Ratio: 0.17263711799230924\n",
      "#connected_components H8: 383   size_of_largest: 3002      Ratio: 0.6075693179518317\n",
      "#connected_components H9: 209   size_of_largest: 4002      Ratio: 0.8099574984820886\n",
      "#connected_components H10: 1   size_of_largest: 4941      Ratio: 1.0\n"
     ]
    }
   ],
   "source": [
    "for i in range(0, 10):\n",
    "    print(\"#connected_components H\" +str(i+1) + \": \" + str(num_con_comps[i])+\"   size_of_largest: \" +str(size_largers_cc[i]) +\n",
    "          \"   \" + \"   Ratio: \"+ str(ratio[i]))"
   ]
  },
  {
   "cell_type": "markdown",
   "metadata": {},
   "source": [
    "2.d) Let S be the size of the fraction of the giant component, plot S on y-axis and phi on x-axis."
   ]
  },
  {
   "cell_type": "code",
   "execution_count": 424,
   "metadata": {
    "scrolled": false
   },
   "outputs": [
    {
     "data": {
      "image/png": "[encoded data removed]",
      "text/plain": [
       "<Figure size 432x288 with 1 Axes>"
      ]
     },
     "metadata": {
      "needs_background": "light"
     },
     "output_type": "display_data"
    }
   ],
   "source": [
    "phi = np.arange(0.1, 1.1, 0.1)\n",
    "S = ratio\n",
    "plt.plot(phi, S, '--', marker ='o')\n",
    "#plt.ylim(0,20)\n",
    "plt.title(\"size of fraction of the giant component based on phi value\\n\")\n",
    "plt.xlabel('value of phi')\n",
    "plt.ylabel('value of S')\n",
    "plt.show()"
   ]
  }
 ],
 "metadata": {
  "kernelspec": {
   "display_name": "Python 3",
   "language": "python",
   "name": "python3"
  },
  "language_info": {
   "codemirror_mode": {
    "name": "ipython",
    "version": 3
   },
   "file_extension": ".py",
   "mimetype": "text/x-python",
   "name": "python",
   "nbconvert_exporter": "python",
   "pygments_lexer": "ipython3",
   "version": "3.8.3"
  }
 },
 "nbformat": 4,
 "nbformat_minor": 4
}
