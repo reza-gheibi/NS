{
  "nbformat": 4,
  "nbformat_minor": 0,
  "metadata": {
    "colab": {
      "name": "proejct2.ipynb",
      "provenance": []
    },
    "kernelspec": {
      "name": "python3",
      "display_name": "Python 3"
    }
  },
  "cells": [
    {
      "cell_type": "markdown",
      "metadata": {
        "id": "ocU4znTVhUQr"
      },
      "source": [
        "# CS 5482 Network Science"
      ]
    },
    {
      "cell_type": "markdown",
      "metadata": {
        "id": "EA2w6p9FheB-"
      },
      "source": [
        "## Project 2 Fall 2020"
      ]
    },
    {
      "cell_type": "markdown",
      "metadata": {
        "id": "u0Wd6_f6hhlg"
      },
      "source": [
        "### Due: 10th Oct 2020 at 9 AM"
      ]
    },
    {
      "cell_type": "markdown",
      "metadata": {
        "id": "KuEWWIASlY6_"
      },
      "source": [
        "### Quesiton 1:"
      ]
    },
    {
      "cell_type": "markdown",
      "metadata": {
        "id": "rIhNmhUbjYIq"
      },
      "source": [
        "a) Generate a random directed 20 node graph with degree densities 0.1, 0.2 and 0.3 - G1, G2 and G3.\n",
        "\n"
      ]
    },
    {
      "cell_type": "code",
      "metadata": {
        "id": "rUkTwB3hkhN2"
      },
      "source": [
        ""
      ],
      "execution_count": null,
      "outputs": []
    },
    {
      "cell_type": "markdown",
      "metadata": {
        "id": "e1in4xzzkMYy"
      },
      "source": [
        "---\n",
        "\n",
        "\n",
        "b) Find the number of strongly connected components in each of the three graphs.\n",
        "\n"
      ]
    },
    {
      "cell_type": "code",
      "metadata": {
        "id": "hYBVAnwihY3M"
      },
      "source": [
        ""
      ],
      "execution_count": null,
      "outputs": []
    },
    {
      "cell_type": "markdown",
      "metadata": {
        "id": "MvsmaUDLknWo"
      },
      "source": [
        "---\n",
        "\n",
        "\n",
        "c) Label each of the strongly connected components. Construct a new set of graphs(H1, H2 and H3) such that each component in G is a node in H and if there is an arc from a component to another in G, then it will connect the corresponding nodes in H. \n",
        "\n",
        "What are the properties of the constructed graph H?"
      ]
    },
    {
      "cell_type": "code",
      "metadata": {
        "id": "ZQ4Iy7Lpl6f5"
      },
      "source": [
        ""
      ],
      "execution_count": null,
      "outputs": []
    },
    {
      "cell_type": "markdown",
      "metadata": {
        "id": "wGRUEbE0l9WN"
      },
      "source": [
        "\n",
        "\n",
        "---\n",
        "\n",
        "\n",
        "\n",
        "---\n",
        "\n",
        "\n",
        "\n",
        "---\n",
        "\n",
        "\n",
        "### Question 2:"
      ]
    },
    {
      "cell_type": "markdown",
      "metadata": {
        "id": "chJRAAMpovaF"
      },
      "source": [
        "a) Generate a random **undirected** 20 node graph with degree densities 0.1, 0.2 and 0.3 - G1, G2 and G3."
      ]
    },
    {
      "cell_type": "code",
      "metadata": {
        "id": "QaE4L2z9pcgp"
      },
      "source": [
        ""
      ],
      "execution_count": null,
      "outputs": []
    },
    {
      "cell_type": "markdown",
      "metadata": {
        "id": "QFCXsF-WpdSj"
      },
      "source": [
        "\n",
        "\n",
        "\n",
        "---\n",
        "\n",
        "\n",
        "b) Find the graph Laplacian(L) for G1, G2 and G3 by finding diagonal matrix(D) and the adjacency matrix(A). "
      ]
    },
    {
      "cell_type": "code",
      "metadata": {
        "id": "qMsdfLzwq8Zk"
      },
      "source": [
        ""
      ],
      "execution_count": null,
      "outputs": []
    },
    {
      "cell_type": "markdown",
      "metadata": {
        "id": "GOJbTlGLq82V"
      },
      "source": [
        "---\n",
        "\n",
        "\n",
        "c) Perform graph partitioning by finding the cut size R using the formula in the equation 6.37 from the book. Reference material given. "
      ]
    },
    {
      "cell_type": "code",
      "metadata": {
        "id": "uTYME7oZrREC"
      },
      "source": [
        ""
      ],
      "execution_count": null,
      "outputs": []
    },
    {
      "cell_type": "markdown",
      "metadata": {
        "id": "4_zXxT77rRv0"
      },
      "source": [
        ""
      ]
    }
  ]
}