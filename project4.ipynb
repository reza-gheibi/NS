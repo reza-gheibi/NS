{
 "cells": [
 
  {
   "cell_type": "code",
   "execution_count": 1,
   "metadata": {},
   "outputs": [],
   "source": [
    "import networkx as nx\n",
    "import numpy as np\n",
    "import math\n",
    "import matplotlib.pyplot as plt\n",
    "import collections"
   ]
  },
  {
   "cell_type": "markdown",
   "metadata": {},
   "source": [
    "#### Question 1: Module 7 -- Real world networks and features"
   ]
  },
  {
   "cell_type": "markdown",
   "metadata": {},
   "source": [
    "1.a) Read the graph from http://networkrepository.com/ca-Erdos992.php"
   ]
  },
  {
   "cell_type": "code",
   "execution_count": 15,
   "metadata": {},
   "outputs": [],
   "source": [
    "#After downloading I removed the first three rows and change the type to a txt file and read as follow\n",
    "el = open (\"ca-Erdos992.txt\", 'rb') # open file and rb is for read-binary\n",
    "G = nx.read_edgelist(el, nodetype=int) # edges on each line of the input\n",
    "el.close()"
   ]
  },
  {
   "cell_type": "markdown",
   "metadata": {},
   "source": [
    "1.b) For the given graph compute the degree distribution. (Do not use networkx library to compute the distribution)"
   ]
  },
  {
   "cell_type": "code",
   "execution_count": 16,
   "metadata": {},
   "outputs": [
    {
     "data": {
      "text/plain": [
       "Text(0.5, 0, 'Degree')"
      ]
     },
     "execution_count": 16,
     "metadata": {},
     "output_type": "execute_result"
    },
    {
     "data": {
      "image/png": "[encoded data removed]",
      "text/plain": [
       "<Figure size 864x720 with 1 Axes>"
      ]
     },
     "metadata": {
      "needs_background": "light"
     },
     "output_type": "display_data"
    }
   ],
   "source": [
    "degree_sequence = sorted([d for n, d in G.degree()], reverse=True)  # degree sequence\n",
    "degreeCount = collections.Counter(degree_sequence) #dict subclass for counting hashable objects\n",
    "deg, cnt = zip(*degreeCount.items()) #counting and histogram on degree and #of nodes in that degree\n",
    "#plotting\n",
    "plt.figure(figsize=(12, 10))\n",
    "plt.bar(deg, cnt, width=0.50, color=\"b\")\n",
    "plt.title(\"Degree Histogram\")\n",
    "plt.ylabel(\"Count\")\n",
    "plt.xlabel(\"Degree\")"
   ]
  },
  {
   "cell_type": "markdown",
   "metadata": {},
   "source": [
    "1.c) Plot a log-log graph of the distribution where x-axis represents log of degrees, and the y-axis represents log of frequency of the degrees. Does the plot show a linear decay?"
   ]
  },
  {
   "cell_type": "markdown",
   "metadata": {},
   "source": [
    "Answer:\n",
    "\n",
    "As the following plot shows, yes the plot shows a linear decay. frequency of degrees decreases as log of degrees increase."
   ]
  },
  {
   "cell_type": "code",
   "execution_count": 17,
   "metadata": {},
   "outputs": [
    {
     "data": {
      "text/plain": [
       "Text(0.5, 0, 'log of Degrees')"
      ]
     },
     "execution_count": 17,
     "metadata": {},
     "output_type": "execute_result"
    },
    {
     "data": {
      "image/png": "[encoded data removed]",
      "text/plain": [
       "<Figure size 432x288 with 1 Axes>"
      ]
     },
     "metadata": {
      "needs_background": "light"
     },
     "output_type": "display_data"
    }
   ],
   "source": [
    "plt.scatter(np.log(deg), np.log(cnt))\n",
    "plt.title(\"Degree Distribution\")\n",
    "plt.ylabel(\"frequency of degrees\")\n",
    "plt.xlabel(\"log of Degrees\")"
   ]
  },
  {
   "cell_type": "markdown",
   "metadata": {},
   "source": [
    "1.d) Determine alpha in the power law distribution using the equation\n",
    "\n",
    " alpha = 1 + n/(summation ln 𝑥_𝑖/(𝑥_min−1/2))\n",
    " - i ranges from 0 to number of degrees\n",
    " - where n in number of degrees\n",
    " - x_i is each degree in the degree array\n",
    " - x_min is the minimum degree"
   ]
  },
  {
   "cell_type": "code",
   "execution_count": 18,
   "metadata": {},
   "outputs": [
    {
     "name": "stdout",
     "output_type": "stream",
     "text": [
      "1.888609888242263\n"
     ]
    }
   ],
   "source": [
    "x_min = min(degree_sequence)\n",
    "temp = sum([math.log(d/(x_min-0.5)) for d in degree_sequence])\n",
    "alpha = 1 + len(G.nodes)/ temp\n",
    "print(str(alpha));"
   ]
  },
  {
   "cell_type": "markdown",
   "metadata": {},
   "source": [
    "#### Question 2: Module 8 -- Random graphs\n",
    "*You may use networkx library*"
   ]
  },
  {
   "cell_type": "markdown",
   "metadata": {},
   "source": [
    "2.a) Construct 5 random undirected graph with n = 1000, and probability 0.01, 0.1, 0.2, 0.3, 0.5 as G1, G2, G3, G4, and G5. Then find the size of the largest connected component. \n",
    "\n",
    "**Note : Use different seed value for each graph.**"
   ]
  },
  {
   "cell_type": "code",
   "execution_count": 19,
   "metadata": {},
   "outputs": [
    {
     "name": "stdout",
     "output_type": "stream",
     "text": [
      "The size of the largest connected component for G1 : 4\n",
      "The size of the largest connected component for G2 : 97\n",
      "The size of the largest connected component for G3 : 788\n",
      "The size of the largest connected component for G4 : 927\n",
      "The size of the largest connected component for G5 : 995\n"
     ]
    }
   ],
   "source": [
    "np.random.seed(1)\n",
    "G1 = nx.fast_gnp_random_graph(1000, 0.0001)\n",
    "largest_cc1 = max(nx.connected_components(G1), key=len)\n",
    "print(\"The size of the largest connected component for G1 : \" + str(len(largest_cc1)))\n",
    "#nx.draw_networkx(G1, pos=nx.spring_layout(G1), node_size=30, with_labels=False)\n",
    "\n",
    "np.random.seed(2)\n",
    "G2 = nx.fast_gnp_random_graph(1000, 0.001)\n",
    "largest_cc2 = max(nx.connected_components(G2), key=len)\n",
    "print(\"The size of the largest connected component for G2 : \" + str(len(largest_cc2)))\n",
    "\n",
    "\n",
    "np.random.seed(3)\n",
    "G3 = nx.fast_gnp_random_graph(1000, 0.002)\n",
    "largest_cc3 = max(nx.connected_components(G3), key=len)\n",
    "print(\"The size of the largest connected component for G3 : \" + str(len(largest_cc3)))\n",
    "\n",
    "np.random.seed(4)\n",
    "G4 = nx.fast_gnp_random_graph(1000, 0.003)\n",
    "largest_cc4 = max(nx.connected_components(G4), key=len)\n",
    "print(\"The size of the largest connected component for G4 : \" + str(len(largest_cc4)))\n",
    "\n",
    "np.random.seed(5)\n",
    "G5 = nx.fast_gnp_random_graph(1000, 0.005)\n",
    "largest_cc5 = max(nx.connected_components(G5), key=len)\n",
    "print(\"The size of the largest connected component for G5 : \" + str(len(largest_cc5)))\n",
    "\n",
    "\n",
    "#nx.draw_networkx(G1, pos=nx.spring_layout(G1), node_size=30, with_labels=False)"
   ]
  },
  {
   "cell_type": "markdown",
   "metadata": {},
   "source": [
    "2.b) Plot the following\n",
    "\n",
    "- x-axis probablity\n",
    "- y-axis largest connected component\n",
    "\n",
    "and infer what does increase in probablity mean with respect to the largest connected component\n"
   ]
  },
  {
   "cell_type": "markdown",
   "metadata": {},
   "source": [
    "Answer:\n",
    "\n",
    "As the following plot shows, number of the largest giant component increases as the probability increase."
   ]
  },
  {
   "cell_type": "code",
   "execution_count": 20,
   "metadata": {},
   "outputs": [
    {
     "data": {
      "text/plain": [
       "<matplotlib.collections.PathCollection at 0x20250f37790>"
      ]
     },
     "execution_count": 20,
     "metadata": {},
     "output_type": "execute_result"
    },
    {
     "data": {
      "image/png": "[encoded data removed]",
      "text/plain": [
       "<Figure size 432x288 with 1 Axes>"
      ]
     },
     "metadata": {
      "needs_background": "light"
     },
     "output_type": "display_data"
    }
   ],
   "source": [
    "x = [0.0001, 0.001, 0.002, 0.003, 0.005]\n",
    "Y = [len(largest_cc1),len(largest_cc2),len(largest_cc3),len(largest_cc4),len(largest_cc5)]\n",
    "plt.scatter(x, Y)"
   ]
  },
  {
   "cell_type": "markdown",
   "metadata": {},
   "source": [
    "2.c) For the same set of graphs, compute the average degree and plot probablity on the x-axis, and average degree on the y-axis\n"
   ]
  },
  {
   "cell_type": "code",
   "execution_count": 21,
   "metadata": {
    "scrolled": false
   },
   "outputs": [
    {
     "data": {
      "text/plain": [
       "<matplotlib.collections.PathCollection at 0x202511a2580>"
      ]
     },
     "execution_count": 21,
     "metadata": {},
     "output_type": "execute_result"
    },
    {
     "data": {
      "image/png": "[encoded data removed]",
      "text/plain": [
       "<Figure size 432x288 with 1 Axes>"
      ]
     },
     "metadata": {
      "needs_background": "light"
     },
     "output_type": "display_data"
    }
   ],
   "source": [
    "y1=sum(dict((G1.degree)).values())/1000\n",
    "y2=sum(dict((G2.degree)).values())/1000\n",
    "y3=sum(dict((G3.degree)).values())/1000\n",
    "y4=sum(dict((G4.degree)).values())/1000\n",
    "y5=sum(dict((G5.degree)).values())/1000\n",
    "y =[y1, y2, y3, y4, y5]\n",
    "plt.scatter(x, y)"
   ]
  },
  {
   "cell_type": "markdown",
   "metadata": {},
   "source": [
    "2.d) Finally, compute the average size of the small component for each graph G1, ..., G5"
   ]
  },
  {
   "cell_type": "code",
   "execution_count": 23,
   "metadata": {},
   "outputs": [
    {
     "name": "stdout",
     "output_type": "stream",
     "text": [
      "[1.0495258166491044, 1.8391038696537678, 1.2544378698224852, 1.1774193548387097, 1.0]\n"
     ]
    }
   ],
   "source": [
    "y1=(1000-Y[0])/(nx.number_connected_components(G1)-1)\n",
    "y2=(1000-Y[1])/(nx.number_connected_components(G2)-1)\n",
    "y3=(1000-Y[2])/(nx.number_connected_components(G3)-1)\n",
    "y4=(1000-Y[3])/(nx.number_connected_components(G4)-1)\n",
    "y5=(1000-Y[4])/(nx.number_connected_components(G5)-1)\n",
    "avg =[y1, y2, y3, y4, y5]\n",
    "#plt.scatter(x, y)\n",
    "print(avg)"
   ]
  }
 ],
 "metadata": {
  "kernelspec": {
   "display_name": "Python 3",
   "language": "python",
   "name": "python3"
  },
  "language_info": {
   "codemirror_mode": {
    "name": "ipython",
    "version": 3
   },
   "file_extension": ".py",
   "mimetype": "text/x-python",
   "name": "python",
   "nbconvert_exporter": "python",
   "pygments_lexer": "ipython3",
   "version": "3.8.3"
  }
 },
 "nbformat": 4,
 "nbformat_minor": 4
}
